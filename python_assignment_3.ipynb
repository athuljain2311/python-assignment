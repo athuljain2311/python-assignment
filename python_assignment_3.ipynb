{
 "cells": [
  {
   "cell_type": "markdown",
   "id": "de3a62e1",
   "metadata": {},
   "source": [
    "# Question 1 : myreduce()"
   ]
  },
  {
   "cell_type": "markdown",
   "id": "ac1c9804",
   "metadata": {},
   "source": [
    "#### First logic"
   ]
  },
  {
   "cell_type": "code",
   "execution_count": 1,
   "id": "4d38925c",
   "metadata": {},
   "outputs": [],
   "source": [
    "def test_func(x,y):\n",
    "    return x+y"
   ]
  },
  {
   "cell_type": "code",
   "execution_count": 2,
   "id": "2d455929",
   "metadata": {},
   "outputs": [],
   "source": [
    "def myreduce_1(func,iterable,initializer=None):  # crude first logic implementation through recursion\n",
    "    if type(iterable) != list:\n",
    "        lst = list(iterable)\n",
    "    else:\n",
    "        lst = iterable.copy()\n",
    "    if initializer is not None:\n",
    "        lst.insert(0,initializer)\n",
    "    if len(lst) == 2:\n",
    "        return func(lst[0],lst[1])\n",
    "    else:\n",
    "        popped = lst.pop()\n",
    "        return func(myreduce_1(func,lst),popped)"
   ]
  },
  {
   "cell_type": "code",
   "execution_count": 3,
   "id": "2cf7cf40",
   "metadata": {},
   "outputs": [
    {
     "data": {
      "text/plain": [
       "60"
      ]
     },
     "execution_count": 3,
     "metadata": {},
     "output_type": "execute_result"
    }
   ],
   "source": [
    "myreduce_1(lambda x,y: x+y, {1,2,3,4,5,6,7,8,9,10,11}, -6)"
   ]
  },
  {
   "cell_type": "markdown",
   "id": "49f59e12",
   "metadata": {},
   "source": [
    "#### Second logic"
   ]
  },
  {
   "cell_type": "code",
   "execution_count": 4,
   "id": "14d2f802",
   "metadata": {},
   "outputs": [],
   "source": [
    "def myreduce_2(func,iterable,initializer=None): # better logic\n",
    "    it = iter(iterable)\n",
    "    if initializer is None:\n",
    "        first = next(it)\n",
    "    else:\n",
    "        first = initializer\n",
    "    for second in it:\n",
    "        first = func(first,second)\n",
    "    return first"
   ]
  },
  {
   "cell_type": "code",
   "execution_count": 5,
   "id": "09b91bf0",
   "metadata": {},
   "outputs": [
    {
     "data": {
      "text/plain": [
       "60"
      ]
     },
     "execution_count": 5,
     "metadata": {},
     "output_type": "execute_result"
    }
   ],
   "source": [
    "myreduce_2(test_func,{1,2,3,4,5,6,7,8,9,10,11},-6)"
   ]
  },
  {
   "cell_type": "markdown",
   "id": "f3761fea",
   "metadata": {},
   "source": [
    "# Question 2"
   ]
  },
  {
   "cell_type": "code",
   "execution_count": 6,
   "id": "0d0c53c2",
   "metadata": {},
   "outputs": [],
   "source": [
    "def myfilter(func,iterable):  # yields an element which is True, in each stage\n",
    "    it = iter(iterable)\n",
    "    if func is not None:\n",
    "        for element in it:\n",
    "            if func(element):\n",
    "                yield element \n",
    "    else:\n",
    "        for element in it:\n",
    "            if element:\n",
    "                yield element"
   ]
  },
  {
   "cell_type": "code",
   "execution_count": 7,
   "id": "ed3aba82",
   "metadata": {},
   "outputs": [],
   "source": [
    "it = myfilter(lambda x: True if x in ['a','e','i','o','u'] else False, {'a':'A','b':'B','c':'C','d':'D','e':'E','f':'F'})"
   ]
  },
  {
   "cell_type": "markdown",
   "id": "d8bad83c",
   "metadata": {},
   "source": [
    "# Question 3"
   ]
  },
  {
   "cell_type": "code",
   "execution_count": 8,
   "id": "a8549ec2",
   "metadata": {},
   "outputs": [
    {
     "data": {
      "text/plain": [
       "['x', 'xx', 'xxx', 'xxxx', 'y', 'yy', 'yyy', 'yyyy', 'z', 'zz', 'zzz', 'zzzz']"
      ]
     },
     "execution_count": 8,
     "metadata": {},
     "output_type": "execute_result"
    }
   ],
   "source": [
    "[ i*j for i in ['x','y','z'] for j in [1,2,3,4]]"
   ]
  },
  {
   "cell_type": "code",
   "execution_count": 9,
   "id": "0feeb7f5",
   "metadata": {},
   "outputs": [
    {
     "data": {
      "text/plain": [
       "['x', 'y', 'z', 'xx', 'yy', 'zz', 'xxx', 'yyy', 'zzz', 'xxxx', 'yyyy', 'zzzz']"
      ]
     },
     "execution_count": 9,
     "metadata": {},
     "output_type": "execute_result"
    }
   ],
   "source": [
    "[i*j for i in [1,2,3,4] for j in ['x','y','z']]"
   ]
  },
  {
   "cell_type": "code",
   "execution_count": 10,
   "id": "72c6d2ff",
   "metadata": {},
   "outputs": [
    {
     "data": {
      "text/plain": [
       "[[2], [3], [4], [3], [4], [5], [4], [5], [6]]"
      ]
     },
     "execution_count": 10,
     "metadata": {},
     "output_type": "execute_result"
    }
   ],
   "source": [
    "[[j] for i in [2,3,4] for j in range(i,i+3)]"
   ]
  },
  {
   "cell_type": "code",
   "execution_count": 11,
   "id": "cecdbfad",
   "metadata": {
    "scrolled": true
   },
   "outputs": [
    {
     "name": "stdout",
     "output_type": "stream",
     "text": [
      "[[2, 3, 4, 5], [3, 4, 5, 6], [4, 5, 6, 7], [5, 6, 7, 8]]\n",
      "[[2, 3, 4, 5], [3, 4, 5, 6], [4, 5, 6, 7], [5, 6, 7, 8]]\n"
     ]
    }
   ],
   "source": [
    "lst1 = [[i,i+1,i+2,i+3] for i in [2,3,4,5]]\n",
    "lst2 = [[j for j in range(i,i+4)] for i in [2,3,4,5]] # can be done in both ways\n",
    "print(lst1)\n",
    "print(lst2)"
   ]
  },
  {
   "cell_type": "code",
   "execution_count": 12,
   "id": "12a1629b",
   "metadata": {},
   "outputs": [
    {
     "data": {
      "text/plain": [
       "[(1, 1), (2, 1), (3, 1), (1, 2), (2, 2), (3, 2), (1, 3), (2, 3), (3, 3)]"
      ]
     },
     "execution_count": 12,
     "metadata": {},
     "output_type": "execute_result"
    }
   ],
   "source": [
    "[(j,i) for i in [1,2,3] for j in [1,2,3]]"
   ]
  }
 ],
 "metadata": {
  "kernelspec": {
   "display_name": "Python 3",
   "language": "python",
   "name": "python3"
  },
  "language_info": {
   "codemirror_mode": {
    "name": "ipython",
    "version": 3
   },
   "file_extension": ".py",
   "mimetype": "text/x-python",
   "name": "python",
   "nbconvert_exporter": "python",
   "pygments_lexer": "ipython3",
   "version": "3.8.8"
  }
 },
 "nbformat": 4,
 "nbformat_minor": 5
}
