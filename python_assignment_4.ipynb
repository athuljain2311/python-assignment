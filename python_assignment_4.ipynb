{
 "cells": [
  {
   "cell_type": "markdown",
   "id": "140c2ded",
   "metadata": {},
   "source": [
    "# Question 1"
   ]
  },
  {
   "cell_type": "code",
   "execution_count": 1,
   "id": "29b512bd",
   "metadata": {},
   "outputs": [
    {
     "name": "stdout",
     "output_type": "stream",
     "text": [
      "Enter the length of the sides : 7 8 9\n",
      "26.832815729997478\n"
     ]
    }
   ],
   "source": [
    "class Triangle:\n",
    "    def __init__(self,a,b,c):\n",
    "        self.a = a\n",
    "        self.b = b\n",
    "        self.c = c\n",
    "    @classmethod\n",
    "    def side_input(cls):\n",
    "        a,b,c = tuple(map(float,input(\"Enter the length of the sides : \").split()))\n",
    "        return cls(a,b,c)\n",
    "\n",
    "class TriangleArea(Triangle):\n",
    "    def area(self):\n",
    "        s = (self.a + self.b + self.c)/2\n",
    "        return (s*(s-self.a)*(s-self.b)*(s-self.c))**0.5\n",
    "    \n",
    "t1 = TriangleArea.side_input()\n",
    "print(t1.area())"
   ]
  },
  {
   "cell_type": "markdown",
   "id": "c51a7b05",
   "metadata": {},
   "source": [
    "# Question 2"
   ]
  },
  {
   "cell_type": "code",
   "execution_count": 2,
   "id": "a8dfde20",
   "metadata": {},
   "outputs": [],
   "source": [
    "def filter_long_words(word_list,n):\n",
    "    lst = []\n",
    "    for word in word_list:\n",
    "        if len(word) > n:\n",
    "            lst.append(word)\n",
    "    return lst"
   ]
  },
  {
   "cell_type": "code",
   "execution_count": 3,
   "id": "5a668e99",
   "metadata": {},
   "outputs": [
    {
     "name": "stdout",
     "output_type": "stream",
     "text": [
      "['havertz', 'marcus', 'rashford', 'fernandes', 'nemanja']\n"
     ]
    }
   ],
   "source": [
    "word_list = [\"shaw\",\"aaron\",\"kai\",\"havertz\",\"bruno\",\"pogba\",\"marcus\",\"rashford\",\"fernandes\",\"paul\",\"david\",\"nemanja\"]\n",
    "print(filter_long_words(word_list,5))"
   ]
  },
  {
   "cell_type": "markdown",
   "id": "8a40647e",
   "metadata": {},
   "source": [
    "# Question 3"
   ]
  },
  {
   "cell_type": "code",
   "execution_count": 4,
   "id": "9552a0cd",
   "metadata": {},
   "outputs": [],
   "source": [
    "def map_length(word_list):\n",
    "    lst = []\n",
    "    for word in word_list:\n",
    "        lst.append(len(word))\n",
    "    return lst"
   ]
  },
  {
   "cell_type": "code",
   "execution_count": 5,
   "id": "1798ca72",
   "metadata": {},
   "outputs": [
    {
     "data": {
      "text/plain": [
       "[4, 5, 3, 7, 5, 5, 6, 8, 9, 4, 5, 7]"
      ]
     },
     "execution_count": 5,
     "metadata": {},
     "output_type": "execute_result"
    }
   ],
   "source": [
    "map_length([\"shaw\",\"aaron\",\"kai\",\"havertz\",\"bruno\",\"pogba\",\"marcus\",\"rashford\",\"fernandes\",\"paul\",\"david\",\"nemanja\"])"
   ]
  },
  {
   "cell_type": "markdown",
   "id": "bbc50e4e",
   "metadata": {},
   "source": [
    "# Question 4"
   ]
  },
  {
   "cell_type": "code",
   "execution_count": 6,
   "id": "5d945323",
   "metadata": {},
   "outputs": [],
   "source": [
    "def vowel(letter):\n",
    "    try:\n",
    "        if len(letter) != 1:\n",
    "            raise ValueError(\"Not a valid character\")\n",
    "    except Exception as e:\n",
    "        print(e)\n",
    "    else:\n",
    "        if letter.lower() in ['a','e','i','o','u']:\n",
    "            return True\n",
    "        else:\n",
    "            return False"
   ]
  }
 ],
 "metadata": {
  "kernelspec": {
   "display_name": "Python 3",
   "language": "python",
   "name": "python3"
  },
  "language_info": {
   "codemirror_mode": {
    "name": "ipython",
    "version": 3
   },
   "file_extension": ".py",
   "mimetype": "text/x-python",
   "name": "python",
   "nbconvert_exporter": "python",
   "pygments_lexer": "ipython3",
   "version": "3.8.8"
  }
 },
 "nbformat": 4,
 "nbformat_minor": 5
}
